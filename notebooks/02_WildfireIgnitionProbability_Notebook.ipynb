{
  "nbformat": 4,
  "nbformat_minor": 0,
  "metadata": {
    "colab": {
      "provenance": [],
      "authorship_tag": "ABX9TyNghwqYmhNuarE+tFUfUV/v",
      "include_colab_link": true
    },
    "kernelspec": {
      "name": "python3",
      "display_name": "Python 3"
    },
    "language_info": {
      "name": "python"
    }
  },
  "cells": [
    {
      "cell_type": "markdown",
      "metadata": {
        "id": "view-in-github",
        "colab_type": "text"
      },
      "source": [
        "<a href=\"https://colab.research.google.com/github/vpdatacommons/VPDC_Notebooks/blob/main/notebooks/02_WildfireIgnitionProbability_Notebook.ipynb\" target=\"_parent\"><img src=\"https://colab.research.google.com/assets/colab-badge.svg\" alt=\"Open In Colab\"/></a>"
      ]
    },
    {
      "cell_type": "markdown",
      "source": [],
      "metadata": {
        "id": "-q0GzVea-hg-"
      }
    },
    {
      "cell_type": "markdown",
      "source": [
        "# Explore Wildfire Ignition Probability data via Jupyter notebook"
      ],
      "metadata": {
        "id": "GaNweIX9-mHP"
      }
    },
    {
      "cell_type": "markdown",
      "source": [
        "#### This notebook is relient on several free and open-source python packages, such as [ipyleaflet](https://ipyleaflet.readthedocs.io/en/latest/), [Rasterio](https://rasterio.readthedocs.io/en/stable/), and [matplotlib](https://matplotlib.org/) that each contribute different tools in Python that empower users to do interactive mapping, geospatial analysis, and data visualization within a Jupyter notebook.\n",
        "\n",
        "**<span style=\"color:red\">NOTE: Many of these tools will need ample time to run depending on contributing factors such as the complexity of the data package, network speed, and server load.</span>**"
      ],
      "metadata": {
        "id": "SOsCPdq4-sB9"
      }
    },
    {
      "cell_type": "markdown",
      "source": [
        "Begin by installing necessary packages:\n",
        "\n",
        "**Note:** If you already have python packages installed, comment out the code below by adding \"#\" in front of each line.\n",
        "`# !pip install rasterio`"
      ],
      "metadata": {
        "id": "TZU0eKID-58E"
      }
    },
    {
      "cell_type": "code",
      "source": [
        "#!pip install rasterio matplotlib numpy ipyleaflet ipywidgets"
      ],
      "metadata": {
        "id": "RZjaFzXU-7jQ"
      },
      "execution_count": null,
      "outputs": []
    },
    {
      "cell_type": "markdown",
      "source": [
        "### Import the necessary packages:"
      ],
      "metadata": {
        "id": "LOREkebf--XQ"
      }
    },
    {
      "cell_type": "code",
      "source": [
        "import rasterio\n",
        "from rasterio.plot import show\n",
        "from rasterio.windows import from_bounds\n",
        "from rasterio.windows import Window\n",
        "from rasterio.enums import Resampling\n",
        "import matplotlib.pyplot as plt\n",
        "import numpy as np\n",
        "import pyproj\n",
        "import ipyleaflet\n",
        "from ipyleaflet import Map, TileLayer, Marker, Popup, WidgetControl\n",
        "import ipywidgets as widgets"
      ],
      "metadata": {
        "id": "MbV2g6sp_Af5"
      },
      "execution_count": null,
      "outputs": []
    },
    {
      "cell_type": "markdown",
      "source": [
        "### Set geographic boundaries for your area of interest to create a subset of wildfire ignition probability dataset from VPDC:"
      ],
      "metadata": {
        "id": "V_SGVTAI_C8-"
      }
    },
    {
      "cell_type": "code",
      "source": [
        "# ------ Configuration ------\n",
        "cog_file_path = \"https://vpdc-resources.s3.us-west-1.amazonaws.com/data-story/VibrantPlanet/IgnitionProbability/data/W_US/OPTIMIZED/W_Hum_Ign_COG.tif\"  # Update with your S3 path\n",
        "# ---------------------------\n",
        "\n",
        "#  ------ Specify a bounding box (adjust for your data's CRS)  ------\n",
        "# Example Bounding Box defined the geographic bounds of Northern California\n",
        "geo_bounds = (-124.0, 38.0, -120.0, 42.0)  # (west_lon, south_lat, east_lon, north_lat)\n",
        "\n",
        "# ------ Setup coordinate transformation from WGS 84 (EPSG:4326) to NAD83 / Conus Albers (EPSG:5070) ------\n",
        "transformer = pyproj.Transformer.from_crs(\"EPSG:4326\", \"EPSG:5070\", always_xy=True)\n",
        "\n",
        "# ------ Transform the bounds ------\n",
        "min_x, min_y = transformer.transform(geo_bounds[0], geo_bounds[1])\n",
        "max_x, max_y = transformer.transform(geo_bounds[2], geo_bounds[3])"
      ],
      "metadata": {
        "id": "IgaPlNye_Eyh"
      },
      "execution_count": null,
      "outputs": []
    },
    {
      "cell_type": "markdown",
      "source": [
        "### Load the data for visualization and analysis"
      ],
      "metadata": {
        "id": "YQW0-NiK_Gf1"
      }
    },
    {
      "cell_type": "code",
      "source": [
        "# ------ Data Loading ------\n",
        "def load_subset(cog_file_path, desired_resolution=None):\n",
        "    \"\"\"Loads a spatial subset of the COG at the specified resolution.\n",
        "\n",
        "    Args:\n",
        "        cog_file_path (str): Path to the COG file.\n",
        "        bounds (tuple): Bounding box in the format (left, bottom, right, top) in the CRS of your data.\n",
        "        desired_resolution (float, optional): Target resolution in the units of your CRS.\n",
        "\n",
        "    Returns:\n",
        "        numpy.ndarray: The data subset at the desired resolution.\n",
        "    \"\"\"\n",
        "    with rasterio.open(cog_file_path) as src:\n",
        "        # Calculate the window to read\n",
        "        window = from_bounds(min_x, min_y, max_x, max_y, src.transform)\n",
        "        subset_data = src.read(1, window=window)\n",
        "\n",
        "        print(f\"Window: {window}\")\n",
        "        print(f\"Subset shape: {subset_data.shape}\")\n",
        "\n",
        "        # Rescale if a different resolution is desired\n",
        "        if desired_resolution:\n",
        "            # Calculate scaling factors\n",
        "            scale_x = desired_resolution / src.res[0]\n",
        "            scale_y = desired_resolution / src.res[1]\n",
        "\n",
        "            # Make sure scaling factors are sensible\n",
        "            print(f\"Scaling - X: {scale_x}, Y: {scale_y}\")\n",
        "\n",
        "            # Resample data to desired resolution\n",
        "            subset_data = src.read(\n",
        "                1,\n",
        "                window=window,\n",
        "                out_shape=(\n",
        "                    int(subset_data.shape[0] * scale_y),\n",
        "                    int(subset_data.shape[1] * scale_x)\n",
        "                ),\n",
        "                resampling=Resampling.bilinear\n",
        "            )\n",
        "\n",
        "    return subset_data\n",
        "\n",
        "# Example of loading a 25-meter resolution subset\n",
        "subset_data = load_subset(cog_file_path, desired_resolution=25)"
      ],
      "metadata": {
        "id": "TFEKc-cI_JDh"
      },
      "execution_count": null,
      "outputs": []
    },
    {
      "cell_type": "markdown",
      "source": [
        "### Basic visualization method"
      ],
      "metadata": {
        "id": "ZiCZaKIm_Lw7"
      }
    },
    {
      "cell_type": "code",
      "source": [
        "# Visualize the subset of the data\n",
        "def visualize_subset(subset_data, colormap, map_title='Human-Caused Wildfire Ignition Probability', legend_title= 'Probability'):\n",
        "    \"\"\" Basic visualization using rasterio's show function. \"\"\"\n",
        "    fig, ax = plt.subplots(figsize=(10, 6))\n",
        "    cmap = plt.get_cmap(colormap)\n",
        "    # Use vmin and vmax to set the color scaling based on the data range\n",
        "    img = ax.imshow(subset_data, cmap=cmap, vmin=np.nanmin(subset_data), vmax=np.nanmax(subset_data))\n",
        "    fig.colorbar(img, ax=ax, orientation='horizontal', label=legend_title)\n",
        "    ax.set_title(map_title)\n",
        "    plt.show()"
      ],
      "metadata": {
        "id": "uVT9tT8i_OMh"
      },
      "execution_count": null,
      "outputs": []
    },
    {
      "cell_type": "markdown",
      "source": [
        "### Data exploration method"
      ],
      "metadata": {
        "id": "bp9ykTR6_Pvi"
      }
    },
    {
      "cell_type": "code",
      "source": [
        "# ------ Data Exploration ------\n",
        "def calculate_statistics(data):\n",
        "    \"\"\" Calculates basic statistics. \"\"\"\n",
        "    print(\"Min:\", np.nanmin(data))\n",
        "    print(\"Max:\", np.nanmax(data))\n",
        "    print(\"Mean:\", np.nanmean(data))\n",
        "    print(\"Standard Deviation:\", np.nanstd(data))"
      ],
      "metadata": {
        "id": "WCOH2cUR_Rx4"
      },
      "execution_count": null,
      "outputs": []
    },
    {
      "cell_type": "markdown",
      "source": [
        "### Data analysis workflow method"
      ],
      "metadata": {
        "id": "429o8ZCt_TWj"
      }
    },
    {
      "cell_type": "code",
      "source": [
        "# ------ Example Analysis Workflow ------\n",
        "def fire_risk_thresholding(data, threshold=0.0001):\n",
        "    \"\"\" Sample analysis: Identifies pixels exceeding a risk threshold.\"\"\"\n",
        "    risk_mask = data > threshold\n",
        "    return risk_mask"
      ],
      "metadata": {
        "id": "LRV9IbLf_Vhk"
      },
      "execution_count": null,
      "outputs": []
    },
    {
      "cell_type": "markdown",
      "source": [
        "# Example Usage"
      ],
      "metadata": {
        "id": "jYsuinMN_XXT"
      }
    },
    {
      "cell_type": "markdown",
      "source": [
        "## Visualize the data"
      ],
      "metadata": {
        "id": "2-w69dUo_dy4"
      }
    },
    {
      "cell_type": "code",
      "source": [
        "# First, verify that values are returned\n",
        "if subset_data.size > 0:\n",
        "    # Visualize\n",
        "    visualize_subset(subset_data, 'viridis')\n",
        "    calculate_statistics(subset_data)\n",
        "else:\n",
        "    print(\"No data loaded in the subset. Please check bounding box coordinates and CRS.\")"
      ],
      "metadata": {
        "id": "G5UvEt6m_ZPr"
      },
      "execution_count": null,
      "outputs": []
    },
    {
      "cell_type": "markdown",
      "source": [
        "## Run basic statistics"
      ],
      "metadata": {
        "id": "uKBkgfZn_b-M"
      }
    },
    {
      "cell_type": "code",
      "source": [
        "# Statistics\n",
        "calculate_statistics(subset_data)"
      ],
      "metadata": {
        "id": "mE7dA-UR_hx-"
      },
      "execution_count": null,
      "outputs": []
    },
    {
      "cell_type": "markdown",
      "source": [
        "### Example of potential analysis workflow"
      ],
      "metadata": {
        "id": "7gALKBxI_jMW"
      }
    },
    {
      "cell_type": "code",
      "source": [
        "# Apply analysis workflow\n",
        "risk_mask = fire_risk_thresholding(subset_data)\n",
        "visualize_subset(risk_mask, 'RdYlBu', 'Areas exceeding a risk threshold', 'Threshold' )  # Visualize the results"
      ],
      "metadata": {
        "id": "_OixPvT2_lLM"
      },
      "execution_count": null,
      "outputs": []
    },
    {
      "cell_type": "markdown",
      "source": [
        "### Example of interactive map with ipyleaflet"
      ],
      "metadata": {
        "id": "kZpkGxOb_neL"
      }
    },
    {
      "cell_type": "code",
      "source": [
        "# ------ Interactive Mapping ------\n",
        "center = (43, -110)  # Approximate center of Western US\n",
        "zoom = 5\n",
        "\n",
        "map = ipyleaflet.Map(center=center, zoom=zoom)\n",
        "\n",
        "# Add GeoTIFF as TileLayer\n",
        "ignition_layer = ipyleaflet.TileLayer(\n",
        "  url= cog_file_path,\n",
        "  band=1,\n",
        "  opacity=0.8,\n",
        "  colormap=plt.cm.inferno,\n",
        "  attribution=\"Wildfire Ignition Data\"\n",
        ")\n",
        "map.add_layer(ignition_layer)\n",
        "\n",
        "# Function to handle map clicks\n",
        "def on_map_click(event, **kwargs):\n",
        "    coords = event['latlng']\n",
        "    # Simulate getting data for now\n",
        "    print(f\"Ignition Probability at ({coords[1]}, {coords[0]}): Sample Probability\")\n",
        "    # Show result in a popup\n",
        "    popup = Popup(\n",
        "        location=coords,\n",
        "        child=widgets.HTML(value=f\"<b>Latitude:</b> {coords[1]}<br><b>Longitude:</b> {coords[0]}\"),\n",
        "        close_button=False,\n",
        "        auto_close=False,\n",
        "        close_on_escape_key=False\n",
        "    )\n",
        "    map.add_layer(popup)\n",
        "\n",
        "map.on_interaction(on_map_click)\n",
        "\n",
        "# Example HTML widget for displaying instructions or information\n",
        "info = widgets.HTML(value=\"Click on the map to see ignition probability.\", placeholder='', description='')\n",
        "widget_control = WidgetControl(widget=info, position='topright')\n",
        "map.add_control(widget_control)\n",
        "\n",
        "# Display the map\n",
        "map"
      ],
      "metadata": {
        "id": "xA7z5Vv5_pOX"
      },
      "execution_count": null,
      "outputs": []
    }
  ]
}
